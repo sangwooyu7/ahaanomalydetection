{
 "cells": [
  {
   "cell_type": "code",
   "execution_count": null,
   "id": "initial_id",
   "metadata": {
    "collapsed": true,
    "is_executing": true
   },
   "outputs": [],
   "source": [
    "import pandas as pd\n",
    "import seaborn as sns\n",
    "import matplotlib.pyplot as plt\n",
    "from read import read_csv\n",
    "\n",
    "file_path = 'supermarket.csv'\n",
    "receipts = read_csv(file_path)"
   ]
  },
  {
   "cell_type": "markdown",
   "source": [
    "We read in AHA supermarket transaction data. The goal is to identify high-risk fraud cases. "
   ],
   "metadata": {
    "collapsed": false
   },
   "id": "ad2b9883586b967"
  },
  {
   "cell_type": "code",
   "outputs": [],
   "source": [
    "data = []\n",
    "for receipt in receipts:\n",
    "    for scan in receipt.scans:\n",
    "        data.append([scan.department, scan.time, scan.price])\n",
    "\n",
    "df = pd.DataFrame(data, columns=['department', 'time', 'price'])\n",
    "\n",
    "# Explore the distribution of prices\n",
    "plt.figure(figsize=(10, 6))\n",
    "sns.histplot(data=df, x='price', kde=True)\n",
    "plt.title('Distribution of Prices')\n",
    "plt.show()"
   ],
   "metadata": {
    "collapsed": false,
    "is_executing": true
   },
   "id": "c2f3826f728762a1"
  },
  {
   "cell_type": "code",
   "outputs": [],
   "source": [],
   "metadata": {
    "collapsed": false
   },
   "id": "7c563a3cb701b09f"
  }
 ],
 "metadata": {
  "kernelspec": {
   "display_name": "Python 3",
   "language": "python",
   "name": "python3"
  },
  "language_info": {
   "codemirror_mode": {
    "name": "ipython",
    "version": 2
   },
   "file_extension": ".py",
   "mimetype": "text/x-python",
   "name": "python",
   "nbconvert_exporter": "python",
   "pygments_lexer": "ipython2",
   "version": "2.7.6"
  }
 },
 "nbformat": 4,
 "nbformat_minor": 5
}
